{
 "cells": [
  {
   "cell_type": "markdown",
   "metadata": {},
   "source": [
    "# Intrduction to NumPy\n",
    "\n",
    "\n",
    "#### 1. Import NumPy under the name np."
   ]
  },
  {
   "cell_type": "code",
   "execution_count": 1,
   "metadata": {},
   "outputs": [],
   "source": [
    "# your code here\n",
    "import numpy as np\n"
   ]
  },
  {
   "cell_type": "markdown",
   "metadata": {},
   "source": [
    "#### 2. Print your NumPy version."
   ]
  },
  {
   "cell_type": "code",
   "execution_count": 4,
   "metadata": {},
   "outputs": [
    {
     "data": {
      "text/plain": [
       "<module 'numpy.version' from 'c:\\\\anaconda3\\\\lib\\\\site-packages\\\\numpy\\\\version.py'>"
      ]
     },
     "execution_count": 4,
     "metadata": {},
     "output_type": "execute_result"
    }
   ],
   "source": [
    "# your code here\n",
    "np.version"
   ]
  },
  {
   "cell_type": "markdown",
   "metadata": {},
   "source": [
    "#### 3. Generate a 2x3x5 3-dimensional array with random values. Assign the array to variable *a*.\n",
    "**Challenge**: there are at least three easy ways that use numpy to generate random arrays. How many ways can you find?"
   ]
  },
  {
   "cell_type": "code",
   "execution_count": 62,
   "metadata": {},
   "outputs": [
    {
     "data": {
      "text/plain": [
       "array([[[ 2, 32, 84, 81, 37],\n",
       "        [90, 38, 48, 29, 12],\n",
       "        [70, 53, 66, 52,  8]],\n",
       "\n",
       "       [[80, 82, 26, 91, 24],\n",
       "        [33, 62, 93, 28, 94],\n",
       "        [ 1, 18, 97, 77, 92]]])"
      ]
     },
     "execution_count": 62,
     "metadata": {},
     "output_type": "execute_result"
    }
   ],
   "source": [
    "# Method 1\n",
    "import random as rd\n",
    "\n",
    "a=np.array(rd.sample([i for i in range(100)], k=30)).reshape(2,3,5)\n",
    "a"
   ]
  },
  {
   "cell_type": "code",
   "execution_count": 63,
   "metadata": {},
   "outputs": [
    {
     "data": {
      "text/plain": [
       "array([[[0.01339078, 0.1474264 , 0.53298964, 0.05521953, 0.47008752],\n",
       "        [0.01322373, 0.37115146, 0.92853832, 0.01192953, 0.28889842],\n",
       "        [0.59085862, 0.39211761, 0.38870736, 0.14146144, 0.07235479]],\n",
       "\n",
       "       [[0.14442506, 0.35360671, 0.11204286, 0.82692412, 0.19935115],\n",
       "        [0.61287197, 0.044141  , 0.34582081, 0.44977434, 0.08587826],\n",
       "        [0.39462159, 0.88124237, 0.06301064, 0.67661668, 0.7212476 ]]])"
      ]
     },
     "execution_count": 63,
     "metadata": {},
     "output_type": "execute_result"
    }
   ],
   "source": [
    "# Method 2\n",
    "a = np.random.rand(30).reshape(2,3,5)\n",
    "a"
   ]
  },
  {
   "cell_type": "code",
   "execution_count": 64,
   "metadata": {},
   "outputs": [
    {
     "data": {
      "text/plain": [
       "array([[[3, 6, 2, 4, 5],\n",
       "        [2, 6, 3, 6, 7],\n",
       "        [6, 1, 5, 7, 8]],\n",
       "\n",
       "       [[6, 3, 4, 2, 6],\n",
       "        [5, 5, 1, 6, 8],\n",
       "        [8, 3, 1, 6, 3]]])"
      ]
     },
     "execution_count": 64,
     "metadata": {},
     "output_type": "execute_result"
    }
   ],
   "source": [
    "# Method 3\n",
    "a = np.random.randint(0,9, size=(2,3,5))\n",
    "a"
   ]
  },
  {
   "cell_type": "code",
   "execution_count": 65,
   "metadata": {},
   "outputs": [
    {
     "data": {
      "text/plain": [
       "array([[[0.01339078, 0.1474264 , 0.53298964, 0.05521953, 0.47008752],\n",
       "        [0.01322373, 0.37115146, 0.92853832, 0.01192953, 0.28889842],\n",
       "        [0.59085862, 0.39211761, 0.38870736, 0.14146144, 0.07235479]],\n",
       "\n",
       "       [[0.14442506, 0.35360671, 0.11204286, 0.82692412, 0.19935115],\n",
       "        [0.61287197, 0.044141  , 0.34582081, 0.44977434, 0.08587826],\n",
       "        [0.39462159, 0.88124237, 0.06301064, 0.67661668, 0.7212476 ]]])"
      ]
     },
     "execution_count": 65,
     "metadata": {},
     "output_type": "execute_result"
    }
   ],
   "source": [
    "## Bonus\n",
    "\n",
    "a = np.ndarray(shape = (2,3,5))\n",
    "a"
   ]
  },
  {
   "cell_type": "markdown",
   "metadata": {},
   "source": [
    "#### 4. Print *a*.\n"
   ]
  },
  {
   "cell_type": "code",
   "execution_count": 66,
   "metadata": {},
   "outputs": [
    {
     "data": {
      "text/plain": [
       "array([[[0.01339078, 0.1474264 , 0.53298964, 0.05521953, 0.47008752],\n",
       "        [0.01322373, 0.37115146, 0.92853832, 0.01192953, 0.28889842],\n",
       "        [0.59085862, 0.39211761, 0.38870736, 0.14146144, 0.07235479]],\n",
       "\n",
       "       [[0.14442506, 0.35360671, 0.11204286, 0.82692412, 0.19935115],\n",
       "        [0.61287197, 0.044141  , 0.34582081, 0.44977434, 0.08587826],\n",
       "        [0.39462159, 0.88124237, 0.06301064, 0.67661668, 0.7212476 ]]])"
      ]
     },
     "execution_count": 66,
     "metadata": {},
     "output_type": "execute_result"
    }
   ],
   "source": [
    "# your code here\n",
    "a"
   ]
  },
  {
   "cell_type": "markdown",
   "metadata": {},
   "source": [
    "#### 5. Create a 5x2x3 3-dimensional array with all values equaling 1. Assign the array to variable *b*."
   ]
  },
  {
   "cell_type": "code",
   "execution_count": 67,
   "metadata": {},
   "outputs": [],
   "source": [
    "# your code here\n",
    "b = ((np.ndarray(shape=(5,2,3)))*0+1)"
   ]
  },
  {
   "cell_type": "markdown",
   "metadata": {},
   "source": [
    "#### 6. Print *b*.\n"
   ]
  },
  {
   "cell_type": "code",
   "execution_count": 68,
   "metadata": {},
   "outputs": [
    {
     "data": {
      "text/plain": [
       "array([[[1., 1., 1.],\n",
       "        [1., 1., 1.]],\n",
       "\n",
       "       [[1., 1., 1.],\n",
       "        [1., 1., 1.]],\n",
       "\n",
       "       [[1., 1., 1.],\n",
       "        [1., 1., 1.]],\n",
       "\n",
       "       [[1., 1., 1.],\n",
       "        [1., 1., 1.]],\n",
       "\n",
       "       [[1., 1., 1.],\n",
       "        [1., 1., 1.]]])"
      ]
     },
     "execution_count": 68,
     "metadata": {},
     "output_type": "execute_result"
    }
   ],
   "source": [
    "# your code here\n",
    "b"
   ]
  },
  {
   "cell_type": "markdown",
   "metadata": {},
   "source": [
    "#### 7. Do *a* and *b* have the same size? How do you prove that in Python code?"
   ]
  },
  {
   "cell_type": "code",
   "execution_count": 69,
   "metadata": {},
   "outputs": [
    {
     "data": {
      "text/plain": [
       "False"
      ]
     },
     "execution_count": 69,
     "metadata": {},
     "output_type": "execute_result"
    }
   ],
   "source": [
    "# your code here\n",
    "a.shape == b.shape"
   ]
  },
  {
   "cell_type": "markdown",
   "metadata": {},
   "source": [
    "#### 8. Are you able to add *a* and *b*? Why or why not?\n"
   ]
  },
  {
   "cell_type": "code",
   "execution_count": 70,
   "metadata": {},
   "outputs": [
    {
     "ename": "ValueError",
     "evalue": "operands could not be broadcast together with shapes (2,3,5) (5,2,3) ",
     "output_type": "error",
     "traceback": [
      "\u001b[1;31m---------------------------------------------------------------------------\u001b[0m",
      "\u001b[1;31mValueError\u001b[0m                                Traceback (most recent call last)",
      "\u001b[1;32mc:\\Users\\Francesco M\\Documents\\IronHack Syllabus\\Labs\\lab-numpy\\your-code\\main.ipynb Cell 19\u001b[0m in \u001b[0;36m<cell line: 2>\u001b[1;34m()\u001b[0m\n\u001b[0;32m      <a href='vscode-notebook-cell:/c%3A/Users/Francesco%20M/Documents/IronHack%20Syllabus/Labs/lab-numpy/your-code/main.ipynb#ch0000017?line=0'>1</a>\u001b[0m \u001b[39m# your answer here\u001b[39;00m\n\u001b[1;32m----> <a href='vscode-notebook-cell:/c%3A/Users/Francesco%20M/Documents/IronHack%20Syllabus/Labs/lab-numpy/your-code/main.ipynb#ch0000017?line=1'>2</a>\u001b[0m a \u001b[39m+\u001b[39;49m b\n",
      "\u001b[1;31mValueError\u001b[0m: operands could not be broadcast together with shapes (2,3,5) (5,2,3) "
     ]
    }
   ],
   "source": [
    "# your answer here\n",
    "a + b\n",
    "## Not possible since the shapes of the two arrays do not match"
   ]
  },
  {
   "cell_type": "markdown",
   "metadata": {},
   "source": [
    "#### 9. Transpose *b* so that it has the same structure of *a* (i.e. become a 2x3x5 array). Assign the transposed array to variable *c*."
   ]
  },
  {
   "cell_type": "code",
   "execution_count": 73,
   "metadata": {},
   "outputs": [],
   "source": [
    "# your code here\n",
    "c = b.reshape(2,3,5)"
   ]
  },
  {
   "cell_type": "markdown",
   "metadata": {},
   "source": [
    "#### 10. Try to add *a* and *c*. Now it should work. Assign the sum to variable *d*. But why does it work now?"
   ]
  },
  {
   "cell_type": "code",
   "execution_count": 75,
   "metadata": {},
   "outputs": [],
   "source": [
    "# your code/answer here\n",
    "d = a+c\n",
    "## to add two different arrays, they must first be the same size\n"
   ]
  },
  {
   "cell_type": "markdown",
   "metadata": {},
   "source": [
    "#### 11. Print *a* and *d*. Notice the difference and relation of the two array in terms of the values? Explain."
   ]
  },
  {
   "cell_type": "code",
   "execution_count": 77,
   "metadata": {},
   "outputs": [
    {
     "name": "stdout",
     "output_type": "stream",
     "text": [
      "[[[0.01339078 0.1474264  0.53298964 0.05521953 0.47008752]\n",
      "  [0.01322373 0.37115146 0.92853832 0.01192953 0.28889842]\n",
      "  [0.59085862 0.39211761 0.38870736 0.14146144 0.07235479]]\n",
      "\n",
      " [[0.14442506 0.35360671 0.11204286 0.82692412 0.19935115]\n",
      "  [0.61287197 0.044141   0.34582081 0.44977434 0.08587826]\n",
      "  [0.39462159 0.88124237 0.06301064 0.67661668 0.7212476 ]]]\n"
     ]
    }
   ],
   "source": [
    "# your code/answer here\n",
    "\n",
    "print (a)"
   ]
  },
  {
   "cell_type": "code",
   "execution_count": 78,
   "metadata": {},
   "outputs": [
    {
     "name": "stdout",
     "output_type": "stream",
     "text": [
      "[[[1.01339078 1.1474264  1.53298964 1.05521953 1.47008752]\n",
      "  [1.01322373 1.37115146 1.92853832 1.01192953 1.28889842]\n",
      "  [1.59085862 1.39211761 1.38870736 1.14146144 1.07235479]]\n",
      "\n",
      " [[1.14442506 1.35360671 1.11204286 1.82692412 1.19935115]\n",
      "  [1.61287197 1.044141   1.34582081 1.44977434 1.08587826]\n",
      "  [1.39462159 1.88124237 1.06301064 1.67661668 1.7212476 ]]]\n"
     ]
    }
   ],
   "source": [
    "print (d)\n",
    "\n",
    "## all values in d are bigger than a by 1"
   ]
  },
  {
   "cell_type": "markdown",
   "metadata": {},
   "source": [
    "#### 12. Multiply *a* and *c*. Assign the result to *e*."
   ]
  },
  {
   "cell_type": "code",
   "execution_count": 81,
   "metadata": {},
   "outputs": [
    {
     "data": {
      "text/plain": [
       "array([[[0.01339078, 0.1474264 , 0.53298964, 0.05521953, 0.47008752],\n",
       "        [0.01322373, 0.37115146, 0.92853832, 0.01192953, 0.28889842],\n",
       "        [0.59085862, 0.39211761, 0.38870736, 0.14146144, 0.07235479]],\n",
       "\n",
       "       [[0.14442506, 0.35360671, 0.11204286, 0.82692412, 0.19935115],\n",
       "        [0.61287197, 0.044141  , 0.34582081, 0.44977434, 0.08587826],\n",
       "        [0.39462159, 0.88124237, 0.06301064, 0.67661668, 0.7212476 ]]])"
      ]
     },
     "execution_count": 81,
     "metadata": {},
     "output_type": "execute_result"
    }
   ],
   "source": [
    "# your code here\n",
    "e = a*c\n"
   ]
  },
  {
   "cell_type": "markdown",
   "metadata": {},
   "source": [
    "#### 13. Does *e* equal to *a*? Why or why not?\n"
   ]
  },
  {
   "cell_type": "code",
   "execution_count": 80,
   "metadata": {},
   "outputs": [
    {
     "data": {
      "text/plain": [
       "array([[[ True,  True,  True,  True,  True],\n",
       "        [ True,  True,  True,  True,  True],\n",
       "        [ True,  True,  True,  True,  True]],\n",
       "\n",
       "       [[ True,  True,  True,  True,  True],\n",
       "        [ True,  True,  True,  True,  True],\n",
       "        [ True,  True,  True,  True,  True]]])"
      ]
     },
     "execution_count": 80,
     "metadata": {},
     "output_type": "execute_result"
    }
   ],
   "source": [
    "# your code/answer here\n",
    "a == e\n",
    "\n",
    "## e is a combination of a and a matrix of just \"1\" so it's the same"
   ]
  },
  {
   "cell_type": "markdown",
   "metadata": {},
   "source": [
    "#### 14. Identify the max, min, and mean values in *d*. Assign those values to variables *d_max*, *d_min* and *d_mean*."
   ]
  },
  {
   "cell_type": "code",
   "execution_count": 86,
   "metadata": {},
   "outputs": [],
   "source": [
    "# your code here\n",
    "d_max = d.max()\n",
    "d_min = d.min()\n",
    "d_mean = d.mean()"
   ]
  },
  {
   "cell_type": "markdown",
   "metadata": {},
   "source": [
    "#### 15. Now we want to label the values in *d*. First create an empty array *f* with the same shape (i.e. 2x3x5) as *d* using `np.empty`.\n"
   ]
  },
  {
   "cell_type": "code",
   "execution_count": 102,
   "metadata": {},
   "outputs": [
    {
     "data": {
      "text/plain": [
       "array([[[0.01339078, 0.1474264 , 0.53298964, 0.05521953, 0.47008752],\n",
       "        [0.01322373, 0.37115146, 0.92853832, 0.01192953, 0.28889842],\n",
       "        [0.59085862, 0.39211761, 0.38870736, 0.14146144, 0.07235479]],\n",
       "\n",
       "       [[0.14442506, 0.35360671, 0.11204286, 0.82692412, 0.19935115],\n",
       "        [0.61287197, 0.044141  , 0.34582081, 0.44977434, 0.08587826],\n",
       "        [0.39462159, 0.88124237, 0.06301064, 0.67661668, 0.7212476 ]]])"
      ]
     },
     "execution_count": 102,
     "metadata": {},
     "output_type": "execute_result"
    }
   ],
   "source": [
    "# your code here\n",
    "f = np.empty(shape=(2,3,5))\n",
    "f"
   ]
  },
  {
   "cell_type": "markdown",
   "metadata": {},
   "source": [
    "#### 16. Populate the values in *f*. \n",
    "\n",
    "For each value in *d*, if it's larger than *d_min* but smaller than *d_mean*, assign 25 to the corresponding value in *f*. If a value in *d* is larger than *d_mean* but smaller than *d_max*, assign 75 to the corresponding value in *f*. If a value equals to *d_mean*, assign 50 to the corresponding value in *f*. Assign 0 to the corresponding value(s) in *f* for *d_min* in *d*. Assign 100 to the corresponding value(s) in *f* for *d_max* in *d*. In the end, f should have only the following values: 0, 25, 50, 75, and 100.\n",
    "\n",
    "**Note**: you don't have to use Numpy in this question."
   ]
  },
  {
   "cell_type": "code",
   "execution_count": 119,
   "metadata": {},
   "outputs": [],
   "source": [
    "# your code here\n",
    "lit = []\n",
    "for i in d.tolist():\n",
    "    for z in i:\n",
    "        for q in z:\n",
    "            if q == d_min:\n",
    "                lit.append(0)\n",
    "            if d_min< q < d_mean:\n",
    "                lit.append(25)\n",
    "                continue\n",
    "            if q == d_mean:\n",
    "                lit.append(50)\n",
    "            if d_mean < q < d_max:\n",
    "                lit.append(75)\n",
    "                continue\n",
    "            if q == d_max:\n",
    "                lit.append(100)\n",
    "f = np.array([lit])\n",
    "f = f.reshape(2,3,5)"
   ]
  },
  {
   "cell_type": "markdown",
   "metadata": {},
   "source": [
    "#### 17. Print *d* and *f*. Do you have your expected *f*?\n",
    "For instance, if your *d* is:\n",
    "```python\n",
    "[[[1.85836099, 1.67064465, 1.62576044, 1.40243961, 1.88454931],\n",
    "[1.75354326, 1.69403643, 1.36729252, 1.61415071, 1.12104981],\n",
    "[1.72201435, 1.1862918 , 1.87078449, 1.7726778 , 1.88180042]],\n",
    "[[1.44747908, 1.31673383, 1.02000951, 1.52218947, 1.97066381],\n",
    "[1.79129243, 1.74983003, 1.96028037, 1.85166831, 1.65450881],\n",
    "[1.18068344, 1.9587381 , 1.00656599, 1.93402165, 1.73514584]]]\n",
    "```\n",
    "Your *f* should be:\n",
    "```python\n",
    "[[[ 75.,  75.,  75.,  25.,  75.],\n",
    "[ 75.,  75.,  25.,  25.,  25.],\n",
    "[ 75.,  25.,  75.,  75.,  75.]],\n",
    "[[ 25.,  25.,  25.,  25., 100.],\n",
    "[ 75.,  75.,  75.,  75.,  75.],\n",
    "[ 25.,  75.,   0.,  75.,  75.]]]\n",
    "```"
   ]
  },
  {
   "cell_type": "code",
   "execution_count": 120,
   "metadata": {},
   "outputs": [
    {
     "name": "stdout",
     "output_type": "stream",
     "text": [
      "[[[1.01339078 1.1474264  1.53298964 1.05521953 1.47008752]\n",
      "  [1.01322373 1.37115146 1.92853832 1.01192953 1.28889842]\n",
      "  [1.59085862 1.39211761 1.38870736 1.14146144 1.07235479]]\n",
      "\n",
      " [[1.14442506 1.35360671 1.11204286 1.82692412 1.19935115]\n",
      "  [1.61287197 1.044141   1.34582081 1.44977434 1.08587826]\n",
      "  [1.39462159 1.88124237 1.06301064 1.67661668 1.7212476 ]]]\n"
     ]
    }
   ],
   "source": [
    "# your code here\n",
    "print(d)"
   ]
  },
  {
   "cell_type": "code",
   "execution_count": 121,
   "metadata": {},
   "outputs": [
    {
     "data": {
      "text/plain": [
       "array([[[ 25,  25,  75,  25,  75],\n",
       "        [ 25,  75, 100,   0,  25],\n",
       "        [ 75,  75,  75,  25,  25]],\n",
       "\n",
       "       [[ 25,  75,  25,  75,  25],\n",
       "        [ 75,  25,  75,  75,  25],\n",
       "        [ 75,  75,  25,  75,  75]]])"
      ]
     },
     "execution_count": 121,
     "metadata": {},
     "output_type": "execute_result"
    }
   ],
   "source": [
    "f"
   ]
  },
  {
   "cell_type": "markdown",
   "metadata": {},
   "source": [
    "#### 18. Bonus question: instead of using numbers (i.e. 0, 25, 50, 75, and 100), use string values  (\"A\", \"B\", \"C\", \"D\", and \"E\") to label the array elements. For the example above, the expected result is:\n",
    "\n",
    "```python\n",
    "[[[ 'D',  'D',  'D',  'B',  'D'],\n",
    "[ 'D',  'D',  'B',  'B',  'B'],\n",
    "[ 'D',  'B',  'D',  'D',  'D']],\n",
    "[[ 'B',  'B',  'B',  'B',  'E'],\n",
    "[ 'D',  'D',  'D',  'D',  'D'],\n",
    "[ 'B',  'D',   'A',  'D', 'D']]]\n",
    "```\n",
    "**Note**: you don't have to use Numpy in this question."
   ]
  },
  {
   "cell_type": "code",
   "execution_count": null,
   "metadata": {},
   "outputs": [],
   "source": [
    "# your code here"
   ]
  }
 ],
 "metadata": {
  "kernelspec": {
   "display_name": "Python 3.9.12 ('base')",
   "language": "python",
   "name": "python3"
  },
  "language_info": {
   "codemirror_mode": {
    "name": "ipython",
    "version": 3
   },
   "file_extension": ".py",
   "mimetype": "text/x-python",
   "name": "python",
   "nbconvert_exporter": "python",
   "pygments_lexer": "ipython3",
   "version": "3.9.12"
  },
  "vscode": {
   "interpreter": {
    "hash": "ff4f85d6e04298634172ac5d8264e7e9b556b95639fe52ebb9425c4d4cba0c9c"
   }
  }
 },
 "nbformat": 4,
 "nbformat_minor": 2
}
